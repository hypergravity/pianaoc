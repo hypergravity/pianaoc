{
 "cells": [
  {
   "cell_type": "markdown",
   "id": "1cbc4637",
   "metadata": {},
   "source": [
    "# Fast & Furious: 如何让你的`Python`代码提速\n",
    "A warm-up: 先来感受一下不同算法的速度差别"
   ]
  },
  {
   "cell_type": "code",
   "execution_count": 1,
   "id": "ca573287",
   "metadata": {},
   "outputs": [
    {
     "name": "stdout",
     "output_type": "stream",
     "text": [
      "Populating the interactive namespace from numpy and matplotlib\n"
     ]
    }
   ],
   "source": [
    "%pylab inline"
   ]
  },
  {
   "cell_type": "code",
   "execution_count": 2,
   "id": "800ec285",
   "metadata": {},
   "outputs": [],
   "source": [
    "%magic"
   ]
  },
  {
   "cell_type": "markdown",
   "id": "92323990",
   "metadata": {},
   "source": [
    "## Example 1: Linear interpolation\n",
    "对数进行线性插值"
   ]
  },
  {
   "cell_type": "code",
   "execution_count": 3,
   "id": "93212ebd",
   "metadata": {},
   "outputs": [
    {
     "data": {
      "text/plain": [
       "[<matplotlib.lines.Line2D at 0x7fa3b0233a30>]"
      ]
     },
     "execution_count": 3,
     "metadata": {},
     "output_type": "execute_result"
    },
    {
     "data": {
      "image/png": "[encoded data removed]",
      "text/plain": [
       "<Figure size 432x288 with 1 Axes>"
      ]
     },
     "metadata": {
      "needs_background": "light"
     },
     "output_type": "display_data"
    }
   ],
   "source": [
    "import numpy as np\n",
    "xdata = np.linspace(0, 1, 100)\n",
    "ydata = np.random.randn(*xdata.shape)\n",
    "xsample = np.linspace(0, 1, 100000)\n",
    "# ysample = ?\n",
    "\n",
    "figure()\n",
    "plot(xdata, ydata, 's-', mec=\"k\")"
   ]
  },
  {
   "cell_type": "code",
   "execution_count": 4,
   "id": "bca98fb7",
   "metadata": {},
   "outputs": [
    {
     "name": "stdout",
     "output_type": "stream",
     "text": [
      "573 µs ± 43.2 µs per loop (mean ± std. dev. of 10 runs, 100 loops each)\n"
     ]
    }
   ],
   "source": [
    "%timeit -r 10 -n 100 np.interp(xsample, xdata, ydata)"
   ]
  },
  {
   "cell_type": "code",
   "execution_count": 5,
   "id": "0bc2dfaa",
   "metadata": {},
   "outputs": [
    {
     "name": "stdout",
     "output_type": "stream",
     "text": [
      "637 µs ± 30 µs per loop (mean ± std. dev. of 10 runs, 100 loops each)\n"
     ]
    }
   ],
   "source": [
    "from scipy.interpolate import interp1d\n",
    "%timeit -r 10 -n 100 interp1d(xdata, ydata)(xsample)"
   ]
  },
  {
   "cell_type": "code",
   "execution_count": 6,
   "id": "e3c93075",
   "metadata": {},
   "outputs": [],
   "source": [
    "import bisect\n",
    "def my_interp1d(xs, x, y):\n",
    "    ys = np.zeros_like(xs)\n",
    "    for i, this_xs in enumerate(xs):\n",
    "        ind = bisect.bisect(x, this_xs)\n",
    "        ind = min((len(x)-1, ind))\n",
    "        ys[i] = y[ind-1] + (this_xs-x[ind-1])/(x[ind] - x[ind-1])*(y[ind] - y[ind-1])\n",
    "    return ys"
   ]
  },
  {
   "cell_type": "code",
   "execution_count": 7,
   "id": "70ffceb4",
   "metadata": {},
   "outputs": [
    {
     "name": "stdout",
     "output_type": "stream",
     "text": [
      "167 ms ± 0 ns per loop (mean ± std. dev. of 1 run, 10 loops each)\n"
     ]
    }
   ],
   "source": [
    "%timeit -r 1 -n 10 my_interp1d(xsample, xdata, ydata)"
   ]
  },
  {
   "cell_type": "code",
   "execution_count": 8,
   "id": "24372236",
   "metadata": {},
   "outputs": [],
   "source": [
    "import bisect\n",
    "def my_interp1d_vec(xs, x, y):\n",
    "    ind = np.zeros_like(xs, dtype=int)\n",
    "    for i, this_xs in enumerate(xs):\n",
    "        ind[i] = min((bisect.bisect(x, this_xs), len(x)-1))\n",
    "    ys = y[ind-1] + (xs - x[ind-1])/(x[ind]-x[ind-1])*(y[ind] - y[ind-1])\n",
    "    return ys"
   ]
  },
  {
   "cell_type": "code",
   "execution_count": 9,
   "id": "3537e3d4",
   "metadata": {},
   "outputs": [
    {
     "name": "stdout",
     "output_type": "stream",
     "text": [
      "84.6 ms ± 0 ns per loop (mean ± std. dev. of 1 run, 10 loops each)\n"
     ]
    }
   ],
   "source": [
    "%timeit -r 1 -n 10 my_interp1d_vec(xsample, xdata, ydata)"
   ]
  },
  {
   "cell_type": "code",
   "execution_count": 10,
   "id": "4fbcc8f2",
   "metadata": {},
   "outputs": [
    {
     "data": {
      "text/plain": [
       "10"
      ]
     },
     "execution_count": 10,
     "metadata": {},
     "output_type": "execute_result"
    }
   ],
   "source": [
    "bisect.bisect(np.arange(10), 10)"
   ]
  },
  {
   "cell_type": "markdown",
   "id": "c512ad3a",
   "metadata": {},
   "source": [
    "ND-Linear interpolation (faster than `scipy`): https://github.com/hypergravity/regli"
   ]
  },
  {
   "cell_type": "markdown",
   "id": "4ab3c43a",
   "metadata": {},
   "source": [
    "## Example 2: inner product\n",
    "矢量内积 $\\vec{a} \\cdot \\vec{b} = \\sum_i a_i \\times b_i$"
   ]
  },
  {
   "cell_type": "code",
   "execution_count": 11,
   "id": "1fff92cf",
   "metadata": {},
   "outputs": [],
   "source": [
    "nel = 100\n",
    "a = np.random.randn(nel)\n",
    "b = np.random.randn(nel)"
   ]
  },
  {
   "cell_type": "code",
   "execution_count": 12,
   "id": "fd8ba277",
   "metadata": {},
   "outputs": [],
   "source": [
    "def my_dot(a, b):\n",
    "    c = 0\n",
    "    for i in range(len(a)):\n",
    "        c += a[i]*b[i]\n",
    "    return c"
   ]
  },
  {
   "cell_type": "code",
   "execution_count": 13,
   "id": "634d57bf",
   "metadata": {},
   "outputs": [
    {
     "name": "stdout",
     "output_type": "stream",
     "text": [
      "23.5 µs ± 2.72 µs per loop (mean ± std. dev. of 100 runs, 1000 loops each)\n"
     ]
    }
   ],
   "source": [
    "%timeit -r 100 -n 1000 my_dot(a, b)"
   ]
  },
  {
   "cell_type": "code",
   "execution_count": 14,
   "id": "df67e4e5",
   "metadata": {
    "scrolled": true
   },
   "outputs": [
    {
     "name": "stdout",
     "output_type": "stream",
     "text": [
      "4.29 µs ± 475 ns per loop (mean ± std. dev. of 100 runs, 1000 loops each)\n"
     ]
    }
   ],
   "source": [
    "%timeit -r 100 -n 1000 np.sum(a * b)"
   ]
  },
  {
   "cell_type": "code",
   "execution_count": 15,
   "id": "070a335f",
   "metadata": {},
   "outputs": [
    {
     "name": "stdout",
     "output_type": "stream",
     "text": [
      "1.31 µs ± 126 ns per loop (mean ± std. dev. of 100 runs, 1000 loops each)\n"
     ]
    }
   ],
   "source": [
    "%timeit -r 100 -n 1000 np.matmul(a.reshape(1, -1), b.reshape(-1, 1))"
   ]
  },
  {
   "cell_type": "code",
   "execution_count": 16,
   "id": "1585e01b",
   "metadata": {},
   "outputs": [
    {
     "name": "stdout",
     "output_type": "stream",
     "text": [
      "963 ns ± 265 ns per loop (mean ± std. dev. of 100 runs, 1000 loops each)\n"
     ]
    }
   ],
   "source": [
    "%timeit -r 100 -n 1000 np.dot(a, b)"
   ]
  },
  {
   "cell_type": "markdown",
   "id": "ad42dadd",
   "metadata": {},
   "source": [
    "## Example 3: acceleration using `numba`\n",
    "那么是不是所有的程序都不要自己写？不是！"
   ]
  },
  {
   "cell_type": "code",
   "execution_count": 17,
   "id": "365be7ec",
   "metadata": {},
   "outputs": [],
   "source": [
    "from numba import jit\n",
    "\n",
    "@jit(nopython=True)\n",
    "def my_dot_numba(a, b):\n",
    "    c = 0\n",
    "    for i in range(len(a)):\n",
    "        c += a[i]*b[i]\n",
    "    return c\n",
    "\n",
    "my_dot_numba(a, b);"
   ]
  },
  {
   "cell_type": "code",
   "execution_count": 18,
   "id": "a958b763",
   "metadata": {},
   "outputs": [
    {
     "name": "stdout",
     "output_type": "stream",
     "text": [
      "474 ns ± 57.5 ns per loop (mean ± std. dev. of 100 runs, 1000 loops each)\n"
     ]
    }
   ],
   "source": [
    "%timeit -r 100 -n 1000 my_dot_numba(a, b)"
   ]
  },
  {
   "cell_type": "code",
   "execution_count": 19,
   "id": "2294bcef",
   "metadata": {},
   "outputs": [],
   "source": [
    "@jit(nopython=True)\n",
    "def numba_dot(a, b):\n",
    "    return np.dot(a, b)\n",
    "\n",
    "numba_dot(a, b);"
   ]
  },
  {
   "cell_type": "code",
   "execution_count": 20,
   "id": "79b3346f",
   "metadata": {},
   "outputs": [
    {
     "name": "stdout",
     "output_type": "stream",
     "text": [
      "405 ns ± 31.5 ns per loop (mean ± std. dev. of 100 runs, 1000 loops each)\n"
     ]
    }
   ],
   "source": [
    "%timeit -r 100 -n 1000 numba_dot(a, b)"
   ]
  },
  {
   "cell_type": "markdown",
   "id": "5638843b",
   "metadata": {},
   "source": [
    "Note that, `numba` supports only some of `numpy` operations... \n",
    "\n",
    "See [https://numba.pydata.org/numba-doc/latest/reference/numpysupported.html#](https://numba.pydata.org/numba-doc/latest/reference/numpysupported.html#)\n",
    "\n",
    "For other methods for accelerations:\n",
    "- [NumExpr](https://numexpr.readthedocs.io/projects/NumExpr3/en/latest/intro.html): string compiled to objects\n",
    "- [Cython](https://cython.readthedocs.io/en/latest/src/tutorial/cython_tutorial.html): C python speed limit\n",
    "- [f2py](https://numpy.org/doc/stable/f2py/): fortran to python"
   ]
  },
  {
   "cell_type": "markdown",
   "id": "057d4883",
   "metadata": {},
   "source": [
    "## Example 4: optimization\n",
    "- free variables $\\vec{x} = [a, b]$\n",
    "- observables $\\vec{y} = [a+b, a-b]$"
   ]
  },
  {
   "cell_type": "code",
   "execution_count": 21,
   "id": "fc3f3ebc",
   "metadata": {},
   "outputs": [],
   "source": [
    "# define problem\n",
    "def model(x):\n",
    "    a, b = x\n",
    "    return a+b, a-b\n",
    "\n",
    "yobs = np.array([10, 2]) # so truth of x is [6, 4]\n",
    "x0 = np.zeros(2, float)  # initial guess of x"
   ]
  },
  {
   "cell_type": "markdown",
   "id": "5d2c530f",
   "metadata": {},
   "source": [
    "#### Solution 1: `scipy.optimize.least_squares`"
   ]
  },
  {
   "cell_type": "code",
   "execution_count": 22,
   "id": "7606e9c2",
   "metadata": {},
   "outputs": [],
   "source": [
    "from scipy.optimize import least_squares\n",
    "def res(x, y):\n",
    "    return model(x) - y"
   ]
  },
  {
   "cell_type": "code",
   "execution_count": 23,
   "id": "2166e9e2",
   "metadata": {},
   "outputs": [
    {
     "name": "stdout",
     "output_type": "stream",
     "text": [
      "1.19 ms ± 62.6 µs per loop (mean ± std. dev. of 10 runs, 100 loops each)\n"
     ]
    }
   ],
   "source": [
    "%timeit -r 10 -n 100 least_squares(res, x0, args=(yobs,), method=\"trf\")"
   ]
  },
  {
   "cell_type": "code",
   "execution_count": 24,
   "id": "7f4273cc",
   "metadata": {},
   "outputs": [
    {
     "name": "stdout",
     "output_type": "stream",
     "text": [
      "1.08 ms ± 61.8 µs per loop (mean ± std. dev. of 10 runs, 100 loops each)\n"
     ]
    }
   ],
   "source": [
    "%timeit -r 10 -n 100 least_squares(res, x0, args=(yobs,), method=\"dogbox\")    "
   ]
  },
  {
   "cell_type": "code",
   "execution_count": 25,
   "id": "2022dc41",
   "metadata": {},
   "outputs": [
    {
     "name": "stdout",
     "output_type": "stream",
     "text": [
      "277 µs ± 32.1 µs per loop (mean ± std. dev. of 10 runs, 100 loops each)\n"
     ]
    }
   ],
   "source": [
    "%timeit -r 10 -n 100 least_squares(res, x0, args=(yobs,), method=\"lm\")    "
   ]
  },
  {
   "cell_type": "markdown",
   "id": "d4ef2ec5",
   "metadata": {},
   "source": [
    "#### Solution 2: `scipy.optimize.minimize`"
   ]
  },
  {
   "cell_type": "code",
   "execution_count": 26,
   "id": "4a2b96d1",
   "metadata": {},
   "outputs": [],
   "source": [
    "from scipy.optimize import minimize\n",
    "def chi2(x, y):\n",
    "    res = (model(x) - y)\n",
    "    return .5 * np.dot(res, res)"
   ]
  },
  {
   "cell_type": "code",
   "execution_count": 27,
   "id": "0b8e4653",
   "metadata": {},
   "outputs": [
    {
     "name": "stdout",
     "output_type": "stream",
     "text": [
      "713 µs ± 44.2 µs per loop (mean ± std. dev. of 10 runs, 100 loops each)\n"
     ]
    }
   ],
   "source": [
    "%timeit -r 10 -n 100 minimize(chi2, x0, args=(yobs,), method=\"BFGS\")    "
   ]
  },
  {
   "cell_type": "code",
   "execution_count": 28,
   "id": "6048c4fb",
   "metadata": {},
   "outputs": [
    {
     "name": "stdout",
     "output_type": "stream",
     "text": [
      "531 µs ± 30.7 µs per loop (mean ± std. dev. of 10 runs, 100 loops each)\n"
     ]
    }
   ],
   "source": [
    "%timeit -r 10 -n 100 minimize(chi2, x0, args=(yobs,), method=\"Powell\")  "
   ]
  },
  {
   "cell_type": "code",
   "execution_count": 29,
   "id": "e28a83e2",
   "metadata": {},
   "outputs": [
    {
     "name": "stdout",
     "output_type": "stream",
     "text": [
      "3 ms ± 190 µs per loop (mean ± std. dev. of 10 runs, 100 loops each)\n"
     ]
    }
   ],
   "source": [
    "%timeit -r 10 -n 100 minimize(chi2, x0, args=(yobs,), method=\"Nelder-Mead\")    "
   ]
  },
  {
   "cell_type": "markdown",
   "id": "53787926",
   "metadata": {},
   "source": [
    "![](https://scipy-lectures.org/_images/sphx_glr_plot_compare_optimizers_001.png)\n",
    "\n",
    "From `scipy`-lectures: https://scipy-lectures.org/advanced/mathematical_optimization/#practical-guide-to-optimization-with-scipy"
   ]
  },
  {
   "cell_type": "markdown",
   "id": "b4a8b9b6",
   "metadata": {},
   "source": [
    "## Example 5: maximize the CPU usage\n",
    "记不记得i9其实有8个core？为何不物尽其用\n",
    "- multiprocessing: https://docs.python.org/3/library/multiprocessing.html\n",
    "- joblib: https://joblib.readthedocs.io/en/latest/\n",
    "- ipyparallel"
   ]
  },
  {
   "cell_type": "code",
   "execution_count": 30,
   "id": "4c5a13b6",
   "metadata": {},
   "outputs": [],
   "source": [
    "import time\n",
    "def one_task(x=1):\n",
    "    time.sleep(1)\n",
    "    return x**2"
   ]
  },
  {
   "cell_type": "markdown",
   "id": "1378a8a3",
   "metadata": {},
   "source": [
    "### Normal case"
   ]
  },
  {
   "cell_type": "code",
   "execution_count": 31,
   "id": "71e88136",
   "metadata": {},
   "outputs": [
    {
     "name": "stdout",
     "output_type": "stream",
     "text": [
      "CPU times: user 533 µs, sys: 628 µs, total: 1.16 ms\n",
      "Wall time: 1 s\n"
     ]
    },
    {
     "data": {
      "text/plain": [
       "1"
      ]
     },
     "execution_count": 31,
     "metadata": {},
     "output_type": "execute_result"
    }
   ],
   "source": [
    "%time one_task(1)"
   ]
  },
  {
   "cell_type": "code",
   "execution_count": 32,
   "id": "4562c184",
   "metadata": {},
   "outputs": [
    {
     "name": "stdout",
     "output_type": "stream",
     "text": [
      "CPU times: user 1.03 ms, sys: 1.17 ms, total: 2.2 ms\n",
      "Wall time: 5.01 s\n"
     ]
    }
   ],
   "source": [
    "%%time\n",
    "for i in range(5):\n",
    "    one_task(i)"
   ]
  },
  {
   "cell_type": "markdown",
   "id": "0d24bfc0",
   "metadata": {},
   "source": [
    "### With `multiprocessing`"
   ]
  },
  {
   "cell_type": "code",
   "execution_count": 33,
   "id": "efcb0476",
   "metadata": {},
   "outputs": [
    {
     "ename": "KeyboardInterrupt",
     "evalue": "",
     "output_type": "error",
     "traceback": [
      "\u001b[0;31m---------------------------------------------------------------------------\u001b[0m",
      "\u001b[0;31mKeyboardInterrupt\u001b[0m                         Traceback (most recent call last)",
      "\u001b[0;32m<ipython-input-33-28bddf8e0de3>\u001b[0m in \u001b[0;36m<module>\u001b[0;34m\u001b[0m\n\u001b[1;32m      1\u001b[0m \u001b[0;32mfrom\u001b[0m \u001b[0mmultiprocessing\u001b[0m \u001b[0;32mimport\u001b[0m \u001b[0mPool\u001b[0m\u001b[0;34m\u001b[0m\u001b[0;34m\u001b[0m\u001b[0m\n\u001b[1;32m      2\u001b[0m \u001b[0;32mwith\u001b[0m \u001b[0mPool\u001b[0m\u001b[0;34m(\u001b[0m\u001b[0;36m3\u001b[0m\u001b[0;34m)\u001b[0m \u001b[0;32mas\u001b[0m \u001b[0mp\u001b[0m\u001b[0;34m:\u001b[0m\u001b[0;34m\u001b[0m\u001b[0;34m\u001b[0m\u001b[0m\n\u001b[0;32m----> 3\u001b[0;31m     \u001b[0mprint\u001b[0m\u001b[0;34m(\u001b[0m\u001b[0mp\u001b[0m\u001b[0;34m.\u001b[0m\u001b[0mmap\u001b[0m\u001b[0;34m(\u001b[0m\u001b[0mone_task\u001b[0m\u001b[0;34m,\u001b[0m \u001b[0;34m[\u001b[0m\u001b[0;36m1\u001b[0m\u001b[0;34m,\u001b[0m \u001b[0;36m2\u001b[0m\u001b[0;34m,\u001b[0m \u001b[0;36m3\u001b[0m\u001b[0;34m]\u001b[0m\u001b[0;34m)\u001b[0m\u001b[0;34m)\u001b[0m\u001b[0;34m\u001b[0m\u001b[0;34m\u001b[0m\u001b[0m\n\u001b[0m",
      "\u001b[0;32m~/anaconda3/lib/python3.8/multiprocessing/pool.py\u001b[0m in \u001b[0;36mmap\u001b[0;34m(self, func, iterable, chunksize)\u001b[0m\n\u001b[1;32m    362\u001b[0m         \u001b[0;32min\u001b[0m \u001b[0ma\u001b[0m \u001b[0mlist\u001b[0m \u001b[0mthat\u001b[0m \u001b[0;32mis\u001b[0m \u001b[0mreturned\u001b[0m\u001b[0;34m.\u001b[0m\u001b[0;34m\u001b[0m\u001b[0;34m\u001b[0m\u001b[0m\n\u001b[1;32m    363\u001b[0m         '''\n\u001b[0;32m--> 364\u001b[0;31m         \u001b[0;32mreturn\u001b[0m \u001b[0mself\u001b[0m\u001b[0;34m.\u001b[0m\u001b[0m_map_async\u001b[0m\u001b[0;34m(\u001b[0m\u001b[0mfunc\u001b[0m\u001b[0;34m,\u001b[0m \u001b[0miterable\u001b[0m\u001b[0;34m,\u001b[0m \u001b[0mmapstar\u001b[0m\u001b[0;34m,\u001b[0m \u001b[0mchunksize\u001b[0m\u001b[0;34m)\u001b[0m\u001b[0;34m.\u001b[0m\u001b[0mget\u001b[0m\u001b[0;34m(\u001b[0m\u001b[0;34m)\u001b[0m\u001b[0;34m\u001b[0m\u001b[0;34m\u001b[0m\u001b[0m\n\u001b[0m\u001b[1;32m    365\u001b[0m \u001b[0;34m\u001b[0m\u001b[0m\n\u001b[1;32m    366\u001b[0m     \u001b[0;32mdef\u001b[0m \u001b[0mstarmap\u001b[0m\u001b[0;34m(\u001b[0m\u001b[0mself\u001b[0m\u001b[0;34m,\u001b[0m \u001b[0mfunc\u001b[0m\u001b[0;34m,\u001b[0m \u001b[0miterable\u001b[0m\u001b[0;34m,\u001b[0m \u001b[0mchunksize\u001b[0m\u001b[0;34m=\u001b[0m\u001b[0;32mNone\u001b[0m\u001b[0;34m)\u001b[0m\u001b[0;34m:\u001b[0m\u001b[0;34m\u001b[0m\u001b[0;34m\u001b[0m\u001b[0m\n",
      "\u001b[0;32m~/anaconda3/lib/python3.8/multiprocessing/pool.py\u001b[0m in \u001b[0;36mget\u001b[0;34m(self, timeout)\u001b[0m\n\u001b[1;32m    763\u001b[0m \u001b[0;34m\u001b[0m\u001b[0m\n\u001b[1;32m    764\u001b[0m     \u001b[0;32mdef\u001b[0m \u001b[0mget\u001b[0m\u001b[0;34m(\u001b[0m\u001b[0mself\u001b[0m\u001b[0;34m,\u001b[0m \u001b[0mtimeout\u001b[0m\u001b[0;34m=\u001b[0m\u001b[0;32mNone\u001b[0m\u001b[0;34m)\u001b[0m\u001b[0;34m:\u001b[0m\u001b[0;34m\u001b[0m\u001b[0;34m\u001b[0m\u001b[0m\n\u001b[0;32m--> 765\u001b[0;31m         \u001b[0mself\u001b[0m\u001b[0;34m.\u001b[0m\u001b[0mwait\u001b[0m\u001b[0;34m(\u001b[0m\u001b[0mtimeout\u001b[0m\u001b[0;34m)\u001b[0m\u001b[0;34m\u001b[0m\u001b[0;34m\u001b[0m\u001b[0m\n\u001b[0m\u001b[1;32m    766\u001b[0m         \u001b[0;32mif\u001b[0m \u001b[0;32mnot\u001b[0m \u001b[0mself\u001b[0m\u001b[0;34m.\u001b[0m\u001b[0mready\u001b[0m\u001b[0;34m(\u001b[0m\u001b[0;34m)\u001b[0m\u001b[0;34m:\u001b[0m\u001b[0;34m\u001b[0m\u001b[0;34m\u001b[0m\u001b[0m\n\u001b[1;32m    767\u001b[0m             \u001b[0;32mraise\u001b[0m \u001b[0mTimeoutError\u001b[0m\u001b[0;34m\u001b[0m\u001b[0;34m\u001b[0m\u001b[0m\n",
      "\u001b[0;32m~/anaconda3/lib/python3.8/multiprocessing/pool.py\u001b[0m in \u001b[0;36mwait\u001b[0;34m(self, timeout)\u001b[0m\n\u001b[1;32m    760\u001b[0m \u001b[0;34m\u001b[0m\u001b[0m\n\u001b[1;32m    761\u001b[0m     \u001b[0;32mdef\u001b[0m \u001b[0mwait\u001b[0m\u001b[0;34m(\u001b[0m\u001b[0mself\u001b[0m\u001b[0;34m,\u001b[0m \u001b[0mtimeout\u001b[0m\u001b[0;34m=\u001b[0m\u001b[0;32mNone\u001b[0m\u001b[0;34m)\u001b[0m\u001b[0;34m:\u001b[0m\u001b[0;34m\u001b[0m\u001b[0;34m\u001b[0m\u001b[0m\n\u001b[0;32m--> 762\u001b[0;31m         \u001b[0mself\u001b[0m\u001b[0;34m.\u001b[0m\u001b[0m_event\u001b[0m\u001b[0;34m.\u001b[0m\u001b[0mwait\u001b[0m\u001b[0;34m(\u001b[0m\u001b[0mtimeout\u001b[0m\u001b[0;34m)\u001b[0m\u001b[0;34m\u001b[0m\u001b[0;34m\u001b[0m\u001b[0m\n\u001b[0m\u001b[1;32m    763\u001b[0m \u001b[0;34m\u001b[0m\u001b[0m\n\u001b[1;32m    764\u001b[0m     \u001b[0;32mdef\u001b[0m \u001b[0mget\u001b[0m\u001b[0;34m(\u001b[0m\u001b[0mself\u001b[0m\u001b[0;34m,\u001b[0m \u001b[0mtimeout\u001b[0m\u001b[0;34m=\u001b[0m\u001b[0;32mNone\u001b[0m\u001b[0;34m)\u001b[0m\u001b[0;34m:\u001b[0m\u001b[0;34m\u001b[0m\u001b[0;34m\u001b[0m\u001b[0m\n",
      "\u001b[0;32m~/anaconda3/lib/python3.8/threading.py\u001b[0m in \u001b[0;36mwait\u001b[0;34m(self, timeout)\u001b[0m\n\u001b[1;32m    556\u001b[0m             \u001b[0msignaled\u001b[0m \u001b[0;34m=\u001b[0m \u001b[0mself\u001b[0m\u001b[0;34m.\u001b[0m\u001b[0m_flag\u001b[0m\u001b[0;34m\u001b[0m\u001b[0;34m\u001b[0m\u001b[0m\n\u001b[1;32m    557\u001b[0m             \u001b[0;32mif\u001b[0m \u001b[0;32mnot\u001b[0m \u001b[0msignaled\u001b[0m\u001b[0;34m:\u001b[0m\u001b[0;34m\u001b[0m\u001b[0;34m\u001b[0m\u001b[0m\n\u001b[0;32m--> 558\u001b[0;31m                 \u001b[0msignaled\u001b[0m \u001b[0;34m=\u001b[0m \u001b[0mself\u001b[0m\u001b[0;34m.\u001b[0m\u001b[0m_cond\u001b[0m\u001b[0;34m.\u001b[0m\u001b[0mwait\u001b[0m\u001b[0;34m(\u001b[0m\u001b[0mtimeout\u001b[0m\u001b[0;34m)\u001b[0m\u001b[0;34m\u001b[0m\u001b[0;34m\u001b[0m\u001b[0m\n\u001b[0m\u001b[1;32m    559\u001b[0m             \u001b[0;32mreturn\u001b[0m \u001b[0msignaled\u001b[0m\u001b[0;34m\u001b[0m\u001b[0;34m\u001b[0m\u001b[0m\n\u001b[1;32m    560\u001b[0m \u001b[0;34m\u001b[0m\u001b[0m\n",
      "\u001b[0;32m~/anaconda3/lib/python3.8/threading.py\u001b[0m in \u001b[0;36mwait\u001b[0;34m(self, timeout)\u001b[0m\n\u001b[1;32m    300\u001b[0m         \u001b[0;32mtry\u001b[0m\u001b[0;34m:\u001b[0m    \u001b[0;31m# restore state no matter what (e.g., KeyboardInterrupt)\u001b[0m\u001b[0;34m\u001b[0m\u001b[0;34m\u001b[0m\u001b[0m\n\u001b[1;32m    301\u001b[0m             \u001b[0;32mif\u001b[0m \u001b[0mtimeout\u001b[0m \u001b[0;32mis\u001b[0m \u001b[0;32mNone\u001b[0m\u001b[0;34m:\u001b[0m\u001b[0;34m\u001b[0m\u001b[0;34m\u001b[0m\u001b[0m\n\u001b[0;32m--> 302\u001b[0;31m                 \u001b[0mwaiter\u001b[0m\u001b[0;34m.\u001b[0m\u001b[0macquire\u001b[0m\u001b[0;34m(\u001b[0m\u001b[0;34m)\u001b[0m\u001b[0;34m\u001b[0m\u001b[0;34m\u001b[0m\u001b[0m\n\u001b[0m\u001b[1;32m    303\u001b[0m                 \u001b[0mgotit\u001b[0m \u001b[0;34m=\u001b[0m \u001b[0;32mTrue\u001b[0m\u001b[0;34m\u001b[0m\u001b[0;34m\u001b[0m\u001b[0m\n\u001b[1;32m    304\u001b[0m             \u001b[0;32melse\u001b[0m\u001b[0;34m:\u001b[0m\u001b[0;34m\u001b[0m\u001b[0;34m\u001b[0m\u001b[0m\n",
      "\u001b[0;31mKeyboardInterrupt\u001b[0m: "
     ]
    }
   ],
   "source": [
    "# from multiprocessing import Pool\n",
    "# with Pool(3) as p:\n",
    "#     print(p.map(one_task, [1, 2, 3]))"
   ]
  },
  {
   "cell_type": "markdown",
   "id": "938817a4",
   "metadata": {},
   "source": [
    "Well, I just can't make it work..."
   ]
  },
  {
   "cell_type": "markdown",
   "id": "b427ffc5",
   "metadata": {},
   "source": [
    "### With `joblib`"
   ]
  },
  {
   "cell_type": "code",
   "execution_count": 34,
   "id": "5ba96547",
   "metadata": {},
   "outputs": [
    {
     "name": "stderr",
     "output_type": "stream",
     "text": [
      "[Parallel(n_jobs=5)]: Using backend LokyBackend with 5 concurrent workers.\n"
     ]
    },
    {
     "name": "stdout",
     "output_type": "stream",
     "text": [
      "CPU times: user 29.8 ms, sys: 55 ms, total: 84.9 ms\n",
      "Wall time: 4.31 s\n",
      "[0, 1, 4, 9, 16, 25, 36, 49, 64, 81, 100, 121, 144, 169, 196, 225, 256, 289, 324, 361]\n"
     ]
    },
    {
     "name": "stderr",
     "output_type": "stream",
     "text": [
      "[Parallel(n_jobs=5)]: Done  20 out of  20 | elapsed:    4.3s finished\n"
     ]
    }
   ],
   "source": [
    "import joblib\n",
    "%time result = joblib.Parallel(n_jobs=5, verbose=1, backend=\"loky\")(joblib.delayed(one_task)(i) for i in range(20))\n",
    "print(result)"
   ]
  },
  {
   "cell_type": "markdown",
   "id": "76395691",
   "metadata": {},
   "source": [
    "### With `ipyparallel`"
   ]
  },
  {
   "cell_type": "code",
   "execution_count": 35,
   "id": "f225b79b",
   "metadata": {},
   "outputs": [
    {
     "name": "stdout",
     "output_type": "stream",
     "text": [
      "[0, 1, 2, 3, 4]\n"
     ]
    },
    {
     "name": "stderr",
     "output_type": "stream",
     "text": [
      "/Users/cham/anaconda3/lib/python3.8/site-packages/ipyparallel/util.py:218: RuntimeWarning: IPython could not determine IPs for MBP16: [Errno 8] nodename nor servname provided, or not known\n",
      "  warnings.warn(\n"
     ]
    }
   ],
   "source": [
    "from ipyparallel import Client\n",
    "rc = Client(profile=\"default\")\n",
    "print(rc.ids)"
   ]
  },
  {
   "cell_type": "code",
   "execution_count": 36,
   "id": "2647bd63",
   "metadata": {},
   "outputs": [],
   "source": [
    "# make direct view\n",
    "dv = rc[:]\n",
    "dv.block = True"
   ]
  },
  {
   "cell_type": "code",
   "execution_count": 37,
   "id": "c29c6ac8",
   "metadata": {},
   "outputs": [],
   "source": [
    "# make data\n",
    "xdata = range(20)\n",
    "ydata = np.random.randn(20)"
   ]
  },
  {
   "cell_type": "code",
   "execution_count": 38,
   "id": "84167d13",
   "metadata": {},
   "outputs": [
    {
     "name": "stdout",
     "output_type": "stream",
     "text": [
      "[range(0, 20), range(0, 20), range(0, 20), range(0, 20), range(0, 20)]\n"
     ]
    }
   ],
   "source": [
    "# push\n",
    "dv.push({\"x\": xdata})\n",
    "print(dv[\"x\"])"
   ]
  },
  {
   "cell_type": "code",
   "execution_count": 39,
   "id": "ddcbe2c3",
   "metadata": {},
   "outputs": [
    {
     "name": "stdout",
     "output_type": "stream",
     "text": [
      "[range(0, 4), range(4, 8), range(8, 12), range(12, 16), range(16, 20)]\n"
     ]
    }
   ],
   "source": [
    "# scatter\n",
    "dv.scatter(\"x\", xdata)\n",
    "print(dv[\"x\"])"
   ]
  },
  {
   "cell_type": "code",
   "execution_count": 40,
   "id": "b8e63a33",
   "metadata": {},
   "outputs": [
    {
     "data": {
      "text/plain": [
       "[None, None, None, None, None]"
      ]
     },
     "execution_count": 40,
     "metadata": {},
     "output_type": "execute_result"
    }
   ],
   "source": [
    "# push the function as well\n",
    "dv.push({\"one_task\": one_task})"
   ]
  },
  {
   "cell_type": "code",
   "execution_count": 41,
   "id": "6fd89716",
   "metadata": {},
   "outputs": [
    {
     "data": {
      "text/plain": [
       "<AsyncResult: execute:finished>"
      ]
     },
     "execution_count": 41,
     "metadata": {},
     "output_type": "execute_result"
    }
   ],
   "source": [
    "# remember to import modules in the remote engines\n",
    "dv.execute(\"import time\")"
   ]
  },
  {
   "cell_type": "code",
   "execution_count": 42,
   "id": "3a9ae06b",
   "metadata": {},
   "outputs": [
    {
     "data": {
      "text/plain": [
       "<AsyncResult: execute:finished>"
      ]
     },
     "execution_count": 42,
     "metadata": {},
     "output_type": "execute_result"
    }
   ],
   "source": [
    "# do the tasks in remote engines\n",
    "dv.execute(\"result = [one_task(_) for _ in x]\")"
   ]
  },
  {
   "cell_type": "code",
   "execution_count": 43,
   "id": "3cb9aeaa",
   "metadata": {},
   "outputs": [
    {
     "name": "stdout",
     "output_type": "stream",
     "text": [
      "CPU times: user 9.14 ms, sys: 2.72 ms, total: 11.9 ms\n",
      "Wall time: 4.03 s\n"
     ]
    },
    {
     "data": {
      "text/plain": [
       "<AsyncResult: execute:finished>"
      ]
     },
     "execution_count": 43,
     "metadata": {},
     "output_type": "execute_result"
    }
   ],
   "source": [
    "# check time cost\n",
    "%time dv.execute(\"result = [one_task(_) for _ in x]\")"
   ]
  },
  {
   "cell_type": "code",
   "execution_count": 44,
   "id": "ed1bc803",
   "metadata": {},
   "outputs": [
    {
     "data": {
      "text/plain": [
       "[[0, 1, 4, 9],\n",
       " [16, 25, 36, 49],\n",
       " [64, 81, 100, 121],\n",
       " [144, 169, 196, 225],\n",
       " [256, 289, 324, 361]]"
      ]
     },
     "execution_count": 44,
     "metadata": {},
     "output_type": "execute_result"
    }
   ],
   "source": [
    "# take a look at the results\n",
    "dv[\"result\"]"
   ]
  },
  {
   "cell_type": "code",
   "execution_count": 45,
   "id": "cec6cd24",
   "metadata": {},
   "outputs": [
    {
     "data": {
      "text/plain": [
       "[0,\n",
       " 1,\n",
       " 4,\n",
       " 9,\n",
       " 16,\n",
       " 25,\n",
       " 36,\n",
       " 49,\n",
       " 64,\n",
       " 81,\n",
       " 100,\n",
       " 121,\n",
       " 144,\n",
       " 169,\n",
       " 196,\n",
       " 225,\n",
       " 256,\n",
       " 289,\n",
       " 324,\n",
       " 361]"
      ]
     },
     "execution_count": 45,
     "metadata": {},
     "output_type": "execute_result"
    }
   ],
   "source": [
    "# gather results\n",
    "dv.gather(\"result\")"
   ]
  },
  {
   "cell_type": "code",
   "execution_count": null,
   "id": "9216131f",
   "metadata": {},
   "outputs": [],
   "source": []
  }
 ],
 "metadata": {
  "kernelspec": {
   "display_name": "Python 3",
   "language": "python",
   "name": "python3"
  },
  "language_info": {
   "codemirror_mode": {
    "name": "ipython",
    "version": 3
   },
   "file_extension": ".py",
   "mimetype": "text/x-python",
   "name": "python",
   "nbconvert_exporter": "python",
   "pygments_lexer": "ipython3",
   "version": "3.8.8"
  }
 },
 "nbformat": 4,
 "nbformat_minor": 5
}
